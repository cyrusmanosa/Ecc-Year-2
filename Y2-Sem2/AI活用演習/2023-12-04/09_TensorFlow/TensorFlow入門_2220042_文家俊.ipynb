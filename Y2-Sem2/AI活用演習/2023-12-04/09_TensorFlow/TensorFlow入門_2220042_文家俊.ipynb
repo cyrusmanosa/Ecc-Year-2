{
  "cells": [
    {
      "cell_type": "markdown",
      "metadata": {
        "id": "MIbU1pwifPls"
      },
      "source": [
        "# **TensorFlowとニューラルネットワーク入門**\n",
        "\n",
        "## **はじめに**\n",
        "\n",
        "この資料は、TensorFlowとニューラルネットワークの基本的な概念と使用法を紹介します。\n",
        "\n",
        "TensorFlowは、Googleによって開発されたオープンソースの機械学習ライブラリで、深層学習モデルの開発に広く利用されています。\n",
        "\n",
        "このライブラリを使用して、画像認識、自然言語処理、強化学習など、多くの機械学習タスクを実行することができます。"
      ]
    },
    {
      "cell_type": "markdown",
      "metadata": {
        "id": "xSFWGP8PrsED"
      },
      "source": [
        "## **セクション 1: TensorFlowのインストールとセットアップ**\n",
        "\n",
        "### **インストール**\n",
        "\n",
        "TensorFlowを使用する前に、Pythonのライブラリとしてインストールする必要があります。以下のコマンドを使用して簡単にインストールできます。"
      ]
    },
    {
      "cell_type": "code",
      "execution_count": 4,
      "metadata": {
        "id": "fuVYopZKrqeo"
      },
      "outputs": [
        {
          "name": "stdout",
          "output_type": "stream",
          "text": [
            "Collecting tensorflow\n",
            "  Obtaining dependency information for tensorflow from https://files.pythonhosted.org/packages/b8/95/0fb1c154bb02f7f7b44138219926519ac19339493b32ff6eefa9bbc83769/tensorflow-2.15.0-cp39-cp39-macosx_12_0_arm64.whl.metadata\n",
            "  Downloading tensorflow-2.15.0-cp39-cp39-macosx_12_0_arm64.whl.metadata (3.6 kB)\n",
            "Collecting tensorflow-macos==2.15.0 (from tensorflow)\n",
            "  Obtaining dependency information for tensorflow-macos==2.15.0 from https://files.pythonhosted.org/packages/3e/ca/4d8aede401f69ebe6dfdb8ef0681bb30ae6051b6441cb25a047e334f9a86/tensorflow_macos-2.15.0-cp39-cp39-macosx_12_0_arm64.whl.metadata\n",
            "  Downloading tensorflow_macos-2.15.0-cp39-cp39-macosx_12_0_arm64.whl.metadata (4.2 kB)\n",
            "Collecting absl-py>=1.0.0 (from tensorflow-macos==2.15.0->tensorflow)\n",
            "  Obtaining dependency information for absl-py>=1.0.0 from https://files.pythonhosted.org/packages/01/e4/dc0a1dcc4e74e08d7abedab278c795eef54a224363bb18f5692f416d834f/absl_py-2.0.0-py3-none-any.whl.metadata\n",
            "  Using cached absl_py-2.0.0-py3-none-any.whl.metadata (2.3 kB)\n",
            "Collecting astunparse>=1.6.0 (from tensorflow-macos==2.15.0->tensorflow)\n",
            "  Using cached astunparse-1.6.3-py2.py3-none-any.whl (12 kB)\n",
            "Collecting flatbuffers>=23.5.26 (from tensorflow-macos==2.15.0->tensorflow)\n",
            "  Obtaining dependency information for flatbuffers>=23.5.26 from https://files.pythonhosted.org/packages/6f/12/d5c79ee252793ffe845d58a913197bfa02ae9a0b5c9bc3dc4b58d477b9e7/flatbuffers-23.5.26-py2.py3-none-any.whl.metadata\n",
            "  Using cached flatbuffers-23.5.26-py2.py3-none-any.whl.metadata (850 bytes)\n",
            "Collecting gast!=0.5.0,!=0.5.1,!=0.5.2,>=0.2.1 (from tensorflow-macos==2.15.0->tensorflow)\n",
            "  Using cached gast-0.5.4-py3-none-any.whl (19 kB)\n",
            "Collecting google-pasta>=0.1.1 (from tensorflow-macos==2.15.0->tensorflow)\n",
            "  Using cached google_pasta-0.2.0-py3-none-any.whl (57 kB)\n",
            "Requirement already satisfied: h5py>=2.9.0 in /opt/homebrew/anaconda3/envs/py39/lib/python3.9/site-packages (from tensorflow-macos==2.15.0->tensorflow) (3.9.0)\n",
            "Collecting libclang>=13.0.0 (from tensorflow-macos==2.15.0->tensorflow)\n",
            "  Obtaining dependency information for libclang>=13.0.0 from https://files.pythonhosted.org/packages/32/1f/981809b77b71972beec34b3ff5422c1b1f7e519daac7b3cbd055c05ba2cf/libclang-16.0.6-py2.py3-none-macosx_11_0_arm64.whl.metadata\n",
            "  Using cached libclang-16.0.6-py2.py3-none-macosx_11_0_arm64.whl.metadata (5.2 kB)\n",
            "Collecting ml-dtypes~=0.2.0 (from tensorflow-macos==2.15.0->tensorflow)\n",
            "  Obtaining dependency information for ml-dtypes~=0.2.0 from https://files.pythonhosted.org/packages/f0/d8/f602f05db13d187884ddb5ae4e823d333beb28bbd3d12c057450afa3acee/ml_dtypes-0.2.0-cp39-cp39-macosx_10_9_universal2.whl.metadata\n",
            "  Downloading ml_dtypes-0.2.0-cp39-cp39-macosx_10_9_universal2.whl.metadata (20 kB)\n",
            "Requirement already satisfied: numpy<2.0.0,>=1.23.5 in /opt/homebrew/anaconda3/envs/py39/lib/python3.9/site-packages (from tensorflow-macos==2.15.0->tensorflow) (1.24.3)\n",
            "Collecting opt-einsum>=2.3.2 (from tensorflow-macos==2.15.0->tensorflow)\n",
            "  Using cached opt_einsum-3.3.0-py3-none-any.whl (65 kB)\n",
            "Requirement already satisfied: packaging in /opt/homebrew/anaconda3/envs/py39/lib/python3.9/site-packages (from tensorflow-macos==2.15.0->tensorflow) (23.1)\n",
            "Collecting protobuf!=4.21.0,!=4.21.1,!=4.21.2,!=4.21.3,!=4.21.4,!=4.21.5,<5.0.0dev,>=3.20.3 (from tensorflow-macos==2.15.0->tensorflow)\n",
            "  Obtaining dependency information for protobuf!=4.21.0,!=4.21.1,!=4.21.2,!=4.21.3,!=4.21.4,!=4.21.5,<5.0.0dev,>=3.20.3 from https://files.pythonhosted.org/packages/e6/db/7b2edc72807d45d72f9db42f3eb86ddaf37f9e55d923159b1dbfc9d835bc/protobuf-4.25.1-cp37-abi3-macosx_10_9_universal2.whl.metadata\n",
            "  Using cached protobuf-4.25.1-cp37-abi3-macosx_10_9_universal2.whl.metadata (541 bytes)\n",
            "Requirement already satisfied: setuptools in /opt/homebrew/anaconda3/envs/py39/lib/python3.9/site-packages (from tensorflow-macos==2.15.0->tensorflow) (68.0.0)\n",
            "Requirement already satisfied: six>=1.12.0 in /opt/homebrew/anaconda3/envs/py39/lib/python3.9/site-packages (from tensorflow-macos==2.15.0->tensorflow) (1.16.0)\n",
            "Collecting termcolor>=1.1.0 (from tensorflow-macos==2.15.0->tensorflow)\n",
            "  Obtaining dependency information for termcolor>=1.1.0 from https://files.pythonhosted.org/packages/d9/5f/8c716e47b3a50cbd7c146f45881e11d9414def768b7cd9c5e6650ec2a80a/termcolor-2.4.0-py3-none-any.whl.metadata\n",
            "  Downloading termcolor-2.4.0-py3-none-any.whl.metadata (6.1 kB)\n",
            "Requirement already satisfied: typing-extensions>=3.6.6 in /opt/homebrew/anaconda3/envs/py39/lib/python3.9/site-packages (from tensorflow-macos==2.15.0->tensorflow) (4.7.1)\n",
            "Requirement already satisfied: wrapt<1.15,>=1.11.0 in /opt/homebrew/anaconda3/envs/py39/lib/python3.9/site-packages (from tensorflow-macos==2.15.0->tensorflow) (1.14.1)\n",
            "Collecting tensorflow-io-gcs-filesystem>=0.23.1 (from tensorflow-macos==2.15.0->tensorflow)\n",
            "  Obtaining dependency information for tensorflow-io-gcs-filesystem>=0.23.1 from https://files.pythonhosted.org/packages/f9/17/74b5b4f7c965aa4e7cbf7dd287744b71692abc52d7c805b4b1d70175f64f/tensorflow_io_gcs_filesystem-0.34.0-cp39-cp39-macosx_12_0_arm64.whl.metadata\n",
            "  Downloading tensorflow_io_gcs_filesystem-0.34.0-cp39-cp39-macosx_12_0_arm64.whl.metadata (14 kB)\n",
            "Collecting grpcio<2.0,>=1.24.3 (from tensorflow-macos==2.15.0->tensorflow)\n",
            "  Obtaining dependency information for grpcio<2.0,>=1.24.3 from https://files.pythonhosted.org/packages/9a/6b/f6761b4b6dcf0c53748415d17183c3b5277a71d251c86fb401941ab3c468/grpcio-1.59.3-cp39-cp39-macosx_10_10_universal2.whl.metadata\n",
            "  Downloading grpcio-1.59.3-cp39-cp39-macosx_10_10_universal2.whl.metadata (4.0 kB)\n",
            "Collecting tensorboard<2.16,>=2.15 (from tensorflow-macos==2.15.0->tensorflow)\n",
            "  Obtaining dependency information for tensorboard<2.16,>=2.15 from https://files.pythonhosted.org/packages/6e/0c/1059a6682cf2cc1fcc0d5327837b5672fe4f5574255fa5430d0a8ceb75e9/tensorboard-2.15.1-py3-none-any.whl.metadata\n",
            "  Using cached tensorboard-2.15.1-py3-none-any.whl.metadata (1.7 kB)\n",
            "Collecting tensorflow-estimator<2.16,>=2.15.0 (from tensorflow-macos==2.15.0->tensorflow)\n",
            "  Obtaining dependency information for tensorflow-estimator<2.16,>=2.15.0 from https://files.pythonhosted.org/packages/b6/c8/2f823c8958d5342eafc6dd3e922f0cc4fcf8c2e0460284cc462dae3b60a0/tensorflow_estimator-2.15.0-py2.py3-none-any.whl.metadata\n",
            "  Using cached tensorflow_estimator-2.15.0-py2.py3-none-any.whl.metadata (1.3 kB)\n",
            "Collecting keras<2.16,>=2.15.0 (from tensorflow-macos==2.15.0->tensorflow)\n",
            "  Obtaining dependency information for keras<2.16,>=2.15.0 from https://files.pythonhosted.org/packages/fc/a7/0d4490de967a67f68a538cc9cdb259bff971c4b5787f7765dc7c8f118f71/keras-2.15.0-py3-none-any.whl.metadata\n",
            "  Using cached keras-2.15.0-py3-none-any.whl.metadata (2.4 kB)\n",
            "Requirement already satisfied: wheel<1.0,>=0.23.0 in /opt/homebrew/anaconda3/envs/py39/lib/python3.9/site-packages (from astunparse>=1.6.0->tensorflow-macos==2.15.0->tensorflow) (0.38.4)\n",
            "Collecting google-auth<3,>=1.6.3 (from tensorboard<2.16,>=2.15->tensorflow-macos==2.15.0->tensorflow)\n",
            "  Obtaining dependency information for google-auth<3,>=1.6.3 from https://files.pythonhosted.org/packages/ca/7e/2d41727aeba37b84e1ca515fbb2ca0d706c591ca946236466ffe575b2059/google_auth-2.24.0-py2.py3-none-any.whl.metadata\n",
            "  Using cached google_auth-2.24.0-py2.py3-none-any.whl.metadata (4.7 kB)\n",
            "Collecting google-auth-oauthlib<2,>=0.5 (from tensorboard<2.16,>=2.15->tensorflow-macos==2.15.0->tensorflow)\n",
            "  Obtaining dependency information for google-auth-oauthlib<2,>=0.5 from https://files.pythonhosted.org/packages/ce/33/a907b4b67245647746dde8d61e1643ef5d210c88e090d491efd89eff9f95/google_auth_oauthlib-1.1.0-py2.py3-none-any.whl.metadata\n",
            "  Using cached google_auth_oauthlib-1.1.0-py2.py3-none-any.whl.metadata (2.7 kB)\n",
            "Requirement already satisfied: markdown>=2.6.8 in /opt/homebrew/anaconda3/envs/py39/lib/python3.9/site-packages (from tensorboard<2.16,>=2.15->tensorflow-macos==2.15.0->tensorflow) (3.4.1)\n",
            "Collecting protobuf!=4.21.0,!=4.21.1,!=4.21.2,!=4.21.3,!=4.21.4,!=4.21.5,<5.0.0dev,>=3.20.3 (from tensorflow-macos==2.15.0->tensorflow)\n",
            "  Obtaining dependency information for protobuf!=4.21.0,!=4.21.1,!=4.21.2,!=4.21.3,!=4.21.4,!=4.21.5,<5.0.0dev,>=3.20.3 from https://files.pythonhosted.org/packages/cb/d3/a164038605494d49acc4f9cda1c0bc200b96382c53edd561387263bb181d/protobuf-4.23.4-cp37-abi3-macosx_10_9_universal2.whl.metadata\n",
            "  Using cached protobuf-4.23.4-cp37-abi3-macosx_10_9_universal2.whl.metadata (540 bytes)\n",
            "Requirement already satisfied: requests<3,>=2.21.0 in /opt/homebrew/anaconda3/envs/py39/lib/python3.9/site-packages (from tensorboard<2.16,>=2.15->tensorflow-macos==2.15.0->tensorflow) (2.31.0)\n",
            "Collecting tensorboard-data-server<0.8.0,>=0.7.0 (from tensorboard<2.16,>=2.15->tensorflow-macos==2.15.0->tensorflow)\n",
            "  Obtaining dependency information for tensorboard-data-server<0.8.0,>=0.7.0 from https://files.pythonhosted.org/packages/7a/13/e503968fefabd4c6b2650af21e110aa8466fe21432cd7c43a84577a89438/tensorboard_data_server-0.7.2-py3-none-any.whl.metadata\n",
            "  Using cached tensorboard_data_server-0.7.2-py3-none-any.whl.metadata (1.1 kB)\n",
            "Requirement already satisfied: werkzeug>=1.0.1 in /opt/homebrew/anaconda3/envs/py39/lib/python3.9/site-packages (from tensorboard<2.16,>=2.15->tensorflow-macos==2.15.0->tensorflow) (2.2.3)\n",
            "Collecting cachetools<6.0,>=2.0.0 (from google-auth<3,>=1.6.3->tensorboard<2.16,>=2.15->tensorflow-macos==2.15.0->tensorflow)\n",
            "  Obtaining dependency information for cachetools<6.0,>=2.0.0 from https://files.pythonhosted.org/packages/a2/91/2d843adb9fbd911e0da45fbf6f18ca89d07a087c3daa23e955584f90ebf4/cachetools-5.3.2-py3-none-any.whl.metadata\n",
            "  Using cached cachetools-5.3.2-py3-none-any.whl.metadata (5.2 kB)\n",
            "Requirement already satisfied: pyasn1-modules>=0.2.1 in /opt/homebrew/anaconda3/envs/py39/lib/python3.9/site-packages (from google-auth<3,>=1.6.3->tensorboard<2.16,>=2.15->tensorflow-macos==2.15.0->tensorflow) (0.2.8)\n",
            "Collecting rsa<5,>=3.1.4 (from google-auth<3,>=1.6.3->tensorboard<2.16,>=2.15->tensorflow-macos==2.15.0->tensorflow)\n",
            "  Using cached rsa-4.9-py3-none-any.whl (34 kB)\n",
            "Collecting requests-oauthlib>=0.7.0 (from google-auth-oauthlib<2,>=0.5->tensorboard<2.16,>=2.15->tensorflow-macos==2.15.0->tensorflow)\n",
            "  Using cached requests_oauthlib-1.3.1-py2.py3-none-any.whl (23 kB)\n",
            "Requirement already satisfied: importlib-metadata>=4.4 in /opt/homebrew/anaconda3/envs/py39/lib/python3.9/site-packages (from markdown>=2.6.8->tensorboard<2.16,>=2.15->tensorflow-macos==2.15.0->tensorflow) (6.0.0)\n",
            "Requirement already satisfied: charset-normalizer<4,>=2 in /opt/homebrew/anaconda3/envs/py39/lib/python3.9/site-packages (from requests<3,>=2.21.0->tensorboard<2.16,>=2.15->tensorflow-macos==2.15.0->tensorflow) (2.0.4)\n",
            "Requirement already satisfied: idna<4,>=2.5 in /opt/homebrew/anaconda3/envs/py39/lib/python3.9/site-packages (from requests<3,>=2.21.0->tensorboard<2.16,>=2.15->tensorflow-macos==2.15.0->tensorflow) (3.4)\n",
            "Requirement already satisfied: urllib3<3,>=1.21.1 in /opt/homebrew/anaconda3/envs/py39/lib/python3.9/site-packages (from requests<3,>=2.21.0->tensorboard<2.16,>=2.15->tensorflow-macos==2.15.0->tensorflow) (1.26.16)\n",
            "Requirement already satisfied: certifi>=2017.4.17 in /opt/homebrew/anaconda3/envs/py39/lib/python3.9/site-packages (from requests<3,>=2.21.0->tensorboard<2.16,>=2.15->tensorflow-macos==2.15.0->tensorflow) (2023.7.22)\n",
            "Requirement already satisfied: MarkupSafe>=2.1.1 in /opt/homebrew/anaconda3/envs/py39/lib/python3.9/site-packages (from werkzeug>=1.0.1->tensorboard<2.16,>=2.15->tensorflow-macos==2.15.0->tensorflow) (2.1.1)\n",
            "Requirement already satisfied: zipp>=0.5 in /opt/homebrew/anaconda3/envs/py39/lib/python3.9/site-packages (from importlib-metadata>=4.4->markdown>=2.6.8->tensorboard<2.16,>=2.15->tensorflow-macos==2.15.0->tensorflow) (3.11.0)\n",
            "Requirement already satisfied: pyasn1<0.5.0,>=0.4.6 in /opt/homebrew/anaconda3/envs/py39/lib/python3.9/site-packages (from pyasn1-modules>=0.2.1->google-auth<3,>=1.6.3->tensorboard<2.16,>=2.15->tensorflow-macos==2.15.0->tensorflow) (0.4.8)\n",
            "Collecting oauthlib>=3.0.0 (from requests-oauthlib>=0.7.0->google-auth-oauthlib<2,>=0.5->tensorboard<2.16,>=2.15->tensorflow-macos==2.15.0->tensorflow)\n",
            "  Using cached oauthlib-3.2.2-py3-none-any.whl (151 kB)\n",
            "Downloading tensorflow-2.15.0-cp39-cp39-macosx_12_0_arm64.whl (2.1 kB)\n",
            "Downloading tensorflow_macos-2.15.0-cp39-cp39-macosx_12_0_arm64.whl (208.8 MB)\n",
            "\u001b[2K   \u001b[90m━━━━━━━━━━━━━━━━━━━━━━━━━━━━━━━━━━━━━━━━\u001b[0m \u001b[32m208.8/208.8 MB\u001b[0m \u001b[31m5.0 MB/s\u001b[0m eta \u001b[36m0:00:00\u001b[0m00:01\u001b[0m00:01\u001b[0mm\n",
            "\u001b[?25hUsing cached absl_py-2.0.0-py3-none-any.whl (130 kB)\n",
            "Using cached flatbuffers-23.5.26-py2.py3-none-any.whl (26 kB)\n",
            "Downloading grpcio-1.59.3-cp39-cp39-macosx_10_10_universal2.whl (9.6 MB)\n",
            "\u001b[2K   \u001b[90m━━━━━━━━━━━━━━━━━━━━━━━━━━━━━━━━━━━━━━━━\u001b[0m \u001b[32m9.6/9.6 MB\u001b[0m \u001b[31m2.5 MB/s\u001b[0m eta \u001b[36m0:00:00\u001b[0m00:01\u001b[0m00:01\u001b[0mm\n",
            "\u001b[?25hUsing cached keras-2.15.0-py3-none-any.whl (1.7 MB)\n",
            "Using cached libclang-16.0.6-py2.py3-none-macosx_11_0_arm64.whl (20.6 MB)\n",
            "Downloading ml_dtypes-0.2.0-cp39-cp39-macosx_10_9_universal2.whl (1.2 MB)\n",
            "\u001b[2K   \u001b[90m━━━━━━━━━━━━━━━━━━━━━━━━━━━━━━━━━━━━━━━━\u001b[0m \u001b[32m1.2/1.2 MB\u001b[0m \u001b[31m4.2 MB/s\u001b[0m eta \u001b[36m0:00:00\u001b[0m00:01\u001b[0m00:01\u001b[0m\n",
            "\u001b[?25hUsing cached tensorboard-2.15.1-py3-none-any.whl (5.5 MB)\n",
            "Using cached protobuf-4.23.4-cp37-abi3-macosx_10_9_universal2.whl (400 kB)\n",
            "Using cached tensorflow_estimator-2.15.0-py2.py3-none-any.whl (441 kB)\n",
            "Downloading tensorflow_io_gcs_filesystem-0.34.0-cp39-cp39-macosx_12_0_arm64.whl (1.9 MB)\n",
            "\u001b[2K   \u001b[90m━━━━━━━━━━━━━━━━━━━━━━━━━━━━━━━━━━━━━━━━\u001b[0m \u001b[32m1.9/1.9 MB\u001b[0m \u001b[31m1.8 MB/s\u001b[0m eta \u001b[36m0:00:00\u001b[0m00:01\u001b[0m00:01\u001b[0m\n",
            "\u001b[?25hDownloading termcolor-2.4.0-py3-none-any.whl (7.7 kB)\n",
            "Using cached google_auth-2.24.0-py2.py3-none-any.whl (183 kB)\n",
            "Using cached google_auth_oauthlib-1.1.0-py2.py3-none-any.whl (19 kB)\n",
            "Using cached tensorboard_data_server-0.7.2-py3-none-any.whl (2.4 kB)\n",
            "Using cached cachetools-5.3.2-py3-none-any.whl (9.3 kB)\n",
            "Installing collected packages: libclang, flatbuffers, termcolor, tensorflow-io-gcs-filesystem, tensorflow-estimator, tensorboard-data-server, rsa, protobuf, opt-einsum, oauthlib, ml-dtypes, keras, grpcio, google-pasta, gast, cachetools, astunparse, absl-py, requests-oauthlib, google-auth, google-auth-oauthlib, tensorboard, tensorflow-macos, tensorflow\n",
            "Successfully installed absl-py-2.0.0 astunparse-1.6.3 cachetools-5.3.2 flatbuffers-23.5.26 gast-0.5.4 google-auth-2.24.0 google-auth-oauthlib-1.1.0 google-pasta-0.2.0 grpcio-1.59.3 keras-2.15.0 libclang-16.0.6 ml-dtypes-0.2.0 oauthlib-3.2.2 opt-einsum-3.3.0 protobuf-4.23.4 requests-oauthlib-1.3.1 rsa-4.9 tensorboard-2.15.1 tensorboard-data-server-0.7.2 tensorflow-2.15.0 tensorflow-estimator-2.15.0 tensorflow-io-gcs-filesystem-0.34.0 tensorflow-macos-2.15.0 termcolor-2.4.0\n",
            "Note: you may need to restart the kernel to use updated packages.\n"
          ]
        }
      ],
      "source": [
        "pip install tensorflow"
      ]
    },
    {
      "cell_type": "markdown",
      "metadata": {
        "id": "2pHXtNsefbxM"
      },
      "source": [
        "### **TensorFlowのバージョンの確認**\n",
        "\n",
        "TensorFlowが正常にインストールされたことを確認するために、以下のPythonコードを使用してバージョンを表示します。"
      ]
    },
    {
      "cell_type": "code",
      "execution_count": 2,
      "metadata": {
        "id": "sh9ygFqCr0xS"
      },
      "outputs": [
        {
          "name": "stdout",
          "output_type": "stream",
          "text": [
            "2.15.0\n"
          ]
        }
      ],
      "source": [
        "import tensorflow as tf\n",
        "print(tf.__version__)"
      ]
    },
    {
      "cell_type": "markdown",
      "metadata": {
        "id": "QBH_XOb7fgU8"
      },
      "source": [
        "## **セクション 2: テンソルの作成**\n",
        "\n",
        "### **テンソルとは？**\n",
        "\n",
        "TensorFlowの基本的な構成要素はテンソルです。テンソルは、スカラー、ベクトル、行列などの多次元配列です。\n",
        "\n",
        "### **テンソルの作成**\n",
        "\n",
        "以下のPythonコードは、TensorFlowを使用してさまざまな形状のテンソルを作成する方法を示しています。"
      ]
    },
    {
      "cell_type": "code",
      "execution_count": 4,
      "metadata": {
        "id": "W0Z2DJeChFgb"
      },
      "outputs": [
        {
          "name": "stdout",
          "output_type": "stream",
          "text": [
            "scalar=7\n",
            "vector=[1 2 3]\n",
            "matrix=[[1 2 3]\n",
            " [4 5 6]]\n",
            "tensor_3d=[[[ 1  2  3]\n",
            "  [ 4  5  6]]\n",
            "\n",
            " [[ 7  8  9]\n",
            "  [10 11 12]]]\n"
          ]
        }
      ],
      "source": [
        "import tensorflow as tf\n",
        "\n",
        "# スカラーの作成\n",
        "scalar = tf.constant(7)\n",
        "print(f\"scalar={scalar}\")\n",
        "\n",
        "# ベクトルの作成\n",
        "vector = tf.constant([1, 2, 3])\n",
        "print(f\"vector={vector}\")\n",
        "\n",
        "# 行列の作成\n",
        "matrix = tf.constant([[1, 2, 3], [4, 5, 6]])\n",
        "print(f\"matrix={matrix}\")\n",
        "\n",
        "# 3次元テンソルの作成\n",
        "tensor_3d = tf.constant([[[1, 2, 3], [4, 5, 6]], [[7, 8, 9], [10, 11, 12]]])\n",
        "print(f\"tensor_3d={tensor_3d}\")"
      ]
    },
    {
      "cell_type": "markdown",
      "metadata": {
        "id": "-88Zq2I4sAov"
      },
      "source": [
        "### **課題**\n",
        "\n",
        "- 独自のテンソルを作成し、それらの形状と値を確認してください。"
      ]
    },
    {
      "cell_type": "code",
      "execution_count": 7,
      "metadata": {
        "id": "2Tz0f9aosHfc"
      },
      "outputs": [
        {
          "name": "stdout",
          "output_type": "stream",
          "text": [
            "scalar=4\n",
            "vector=[4 5 6]\n",
            "matrix=[[4 5 6]\n",
            " [7 8 9]]\n",
            "tensor_3d=[[[ 1  2  3]\n",
            "  [ 4  5  6]]\n",
            "\n",
            " [[ 7  8  9]\n",
            "  [10 11 12]]]\n"
          ]
        }
      ],
      "source": [
        "import tensorflow as tf\n",
        "\n",
        "# スカラーの作成\n",
        "scalar = tf.constant(4)\n",
        "print(f\"scalar={scalar}\")\n",
        "\n",
        "# ベクトルの作成\n",
        "vector = tf.constant([4, 5, 6])\n",
        "print(f\"vector={vector}\")\n",
        "\n",
        "# 行列の作成\n",
        "matrix = tf.constant([ [4, 5, 6], [7, 8, 9] ])\n",
        "print(f\"matrix={matrix}\")\n",
        "\n",
        "# 3次元テンソルの作成\n",
        "tensor_3d = tf.constant([ [ [1, 2, 3], [4, 5, 6] ],[ [7, 8, 9], [10, 11, 12] ] ])\n",
        "print(f\"tensor_3d={tensor_3d}\")"
      ]
    },
    {
      "cell_type": "markdown",
      "metadata": {
        "id": "a32KgUL2hU32"
      },
      "source": [
        "## **セクション 3: テンソルの基本的な演算**"
      ]
    },
    {
      "cell_type": "markdown",
      "metadata": {
        "id": "sEK_i6GrsQlC"
      },
      "source": [
        "### **足し算と引き算**\n",
        "\n",
        "TensorFlowのテンソルでは、通常の数学的演算を簡単に行うことができます。以下は、2つのテンソルの足し算と引き算の例です。"
      ]
    },
    {
      "cell_type": "code",
      "execution_count": 5,
      "metadata": {
        "id": "ZNQW7hf9hX7Z"
      },
      "outputs": [
        {
          "name": "stdout",
          "output_type": "stream",
          "text": [
            "sum_tensors = [5 7 9]\n",
            "subtract_tensors = [-3 -3 -3]\n"
          ]
        }
      ],
      "source": [
        "import tensorflow as tf\n",
        "\n",
        "# テンソルの作成\n",
        "tensor_a = tf.constant([1, 2, 3])\n",
        "tensor_b = tf.constant([4, 5, 6])\n",
        "\n",
        "# 足し算\n",
        "sum_tensors = tf.add(tensor_a, tensor_b)\n",
        "print(f\"sum_tensors = {sum_tensors}\")\n",
        "\n",
        "# 引き算\n",
        "subtract_tensors = tf.subtract(tensor_a, tensor_b)\n",
        "print(f\"subtract_tensors = {subtract_tensors}\")"
      ]
    },
    {
      "cell_type": "markdown",
      "metadata": {
        "id": "_CpA3-XwsUbN"
      },
      "source": [
        "### **課題**\n",
        "\n",
        "- 独自のテンソルを作成し、異なる演算を試してください。"
      ]
    },
    {
      "cell_type": "code",
      "execution_count": 8,
      "metadata": {
        "id": "6dz0zjZosVxQ"
      },
      "outputs": [
        {
          "name": "stdout",
          "output_type": "stream",
          "text": [
            "sum_tensors = [ 8 10 12]\n",
            "subtract_tensors = [6 6 6]\n"
          ]
        }
      ],
      "source": [
        "import tensorflow as tf\n",
        "\n",
        "# テンソルの作成\n",
        "tensor_a = tf.constant([7, 8, 9])\n",
        "tensor_b = tf.constant([1, 2, 3])\n",
        "\n",
        "# 足し算\n",
        "sum_tensors = tf.add(tensor_a, tensor_b)\n",
        "print(f\"sum_tensors = {sum_tensors}\")\n",
        "\n",
        "# 引き算\n",
        "subtract_tensors = tf.subtract(tensor_a, tensor_b)\n",
        "print(f\"subtract_tensors = {subtract_tensors}\")"
      ]
    },
    {
      "cell_type": "markdown",
      "metadata": {
        "id": "DykZtDOrsZ0Z"
      },
      "source": [
        "## **セクション 4: ニューラルネットワークの構築と訓練**\n",
        "## **4.1 MNISTデータセットの読み込み**\n",
        "MNISTデータセットは手書き数字の画像データセットであり、機械学習のベンチマークとして広く使用されています。まず、MNISTデータセットを読み込みます。"
      ]
    },
    {
      "cell_type": "code",
      "execution_count": 71,
      "metadata": {
        "id": "1CzLqKUpZj2i"
      },
      "outputs": [
        {
          "data": {
            "image/png": "[encoded data removed]",
            "text/plain": [
              "<Figure size 1000x400 with 10 Axes>"
            ]
          },
          "metadata": {},
          "output_type": "display_data"
        }
      ],
      "source": [
        "# tensorflowという名前のツールセットからkerasという部分の中のデータセットを使います\n",
        "from tensorflow.keras.datasets import mnist\n",
        "\n",
        "# 描画のためのツールを使う準備をします\n",
        "import matplotlib.pyplot as plt\n",
        "\n",
        "# MNISTという手書き数字の画像セットを読み込みます。訓練用の画像と答え、テスト用の画像と答えに分かれています。\n",
        "(train_images, train_labels), (test_images, test_labels) = mnist.load_data()\n",
        "\n",
        "# 訓練用の画像を見やすく表示するための領域を作ります。上下2行、左右5列の計10枠作ります。\n",
        "fig, axes = plt.subplots(nrows=2, ncols=5, figsize=(10, 4))\n",
        "\n",
        "# 10枠それぞれに訓練用の画像を入れていきます。iは0から9まで、axはそれぞれの枠です。\n",
        "for i, ax in enumerate(axes.flatten()):\n",
        "    # i番目の画像をグレースケール（白黒）で表示します。\n",
        "    ax.imshow(train_images[i], cmap='gray')\n",
        "    \n",
        "    # 画像の上に、それが何の数字であるかを表示します（これが答えです）。\n",
        "    ax.set_title(f\"Label: {train_labels[i]}\")\n",
        "    \n",
        "    # 枠の周りの軸（数字や目盛り）は要らないので消します。\n",
        "    ax.axis('off')\n",
        "\n",
        "# 配置をきれいに整えます。\n",
        "plt.tight_layout()\n",
        "\n",
        "# 実際に画像を表示します。\n",
        "plt.show()"
      ]
    },
    {
      "cell_type": "markdown",
      "metadata": {
        "id": "BzJ2HsomZyqF"
      },
      "source": [
        "## **4.2 データの前処理**\n",
        "読み込んだデータをニューラルネットワークに適した形式に前処理します。"
      ]
    },
    {
      "cell_type": "code",
      "execution_count": 60,
      "metadata": {
        "id": "3-3B-V4bZ-ax"
      },
      "outputs": [],
      "source": [
        "# tensorflowのkerasツールセットから、カテゴリカルデータを使いやすくするためのユーティリティを読み込みます\n",
        "from tensorflow.keras.utils import to_categorical\n",
        "\n",
        "# データの前処理\n",
        "# 訓練用の画像データを整形して、色の範囲を0から1に変換します（通常、色は0から255の範囲です）。\n",
        "# 60000枚の画像をそれぞれ28x28ピクセルの1チャンネル（グレースケール）の形に変えて、色を0から1に変換します。\n",
        "train_images = train_images.reshape((60000, 28, 28, 1)).astype('float32') / 255.0\n",
        "\n",
        "# テスト用の画像データも同様に整形して色の範囲を0から1に変換します。\n",
        "# 10000枚の画像をそれぞれ28x28ピクセルの1チャンネル（グレースケール）の形に変えて、色を0から1に変換します。\n",
        "test_images = test_images.reshape((10000, 28, 28, 1)).astype('float32') / 255.0\n",
        "\n",
        "# 訓練用のラベル（答え）を「カテゴリカル」形式に変換します。\n",
        "# これは、例えば、ラベル '5' を [0, 0, 0, 0, 0, 1, 0, 0, 0, 0] のような形に変換することです。\n",
        "train_labels = to_categorical(train_labels)\n",
        "\n",
        "# テスト用のラベル（答え）も同様にカテゴリカル形式に変換します。\n",
        "test_labels = to_categorical(test_labels)"
      ]
    },
    {
      "cell_type": "markdown",
      "metadata": {
        "id": "4xoPKit0aDov"
      },
      "source": [
        "上記のコードでは、画像データを浮動小数点数に変換し、0から1の範囲に正規化しています。また、ラベルデータはone-hotエンコーディングされています。\n",
        "これにより、画像データとラベルデータがニューラルネットワークモデルに適した形式に変換されます。"
      ]
    },
    {
      "cell_type": "markdown",
      "metadata": {
        "id": "zq_yzRXbZnso"
      },
      "source": [
        "## **4.3 モデルの定義**\n",
        "ニューラルネットワークモデルを構築します。以下の例では、畳み込み層と全結合層からなるシンプルなモデルを定義します。"
      ]
    },
    {
      "cell_type": "code",
      "execution_count": 61,
      "metadata": {
        "id": "JeF4qt6jsbv4"
      },
      "outputs": [],
      "source": [
        "# tensorflowという名前のツールセットを使う準備をします\n",
        "import tensorflow as tf\n",
        "\n",
        "# tensorflowの中のkerasツールセットから、モデルの構造や層を作る部分を使う準備をします\n",
        "from tensorflow.keras.models import Sequential\n",
        "from tensorflow.keras.layers import Dense, Flatten, Conv2D, MaxPooling2D\n",
        "\n",
        "# モデルの定義\n",
        "# Sequentialは、層を順番に積み重ねたモデルを作るためのものです。これがロボットの頭脳になります。\n",
        "model = Sequential([\n",
        "    # Conv2Dは畳み込み層で、画像の特徴を捉えます。32はフィルタの数、(3, 3)はフィルタのサイズです。\n",
        "    # activation='relu'は活性化関数で、どの程度の情報を次の層に伝えるかを決める役割があります。\n",
        "    # input_shape=(28, 28, 1)は入力画像の形状を指定します。28x28ピクセルで1チャンネル（グレースケール）です。\n",
        "    Conv2D(32, (3, 3), activation='relu', input_shape=(28, 28, 1)),\n",
        "    \n",
        "    # MaxPooling2Dはプーリング層で、画像を縮小しながら重要な特徴だけを残します。(2, 2)は縮小する範囲です。\n",
        "    MaxPooling2D((2, 2)),\n",
        "    \n",
        "    # Flatten層は、画像を一列の数値のリストに変換します。これで通常の全結合層に入力できる形になります。\n",
        "    Flatten(),\n",
        "    \n",
        "    # Denseは全結合層で、前の層の情報を使って学習します。64はこの層のノード（ニューロン）の数です。\n",
        "    Dense(64, activation='relu'),\n",
        "    \n",
        "    # もう一つのDense層ですが、ここでは10個のノードがあります。10個の数字（0〜9）それぞれに対応します。\n",
        "    # activation='softmax'は、出力の合計が1になるようにして、確率として解釈できるようにします。\n",
        "    Dense(10, activation='softmax')\n",
        "])"
      ]
    },
    {
      "cell_type": "markdown",
      "metadata": {
        "id": "0ndylcIXvYlr"
      },
      "source": [
        "この例では、以下のようなモデルが定義されています。\n",
        "\n",
        "畳み込み層（Conv2D）: 32個の3x3のフィルタを使用し、ReLU活性化関数を適用します。  \n",
        "プーリング層（MaxPooling2D）: 2x2の領域で最大値を取るプーリングを適用します。  \n",
        "平滑化層（Flatten）: 3次元の特徴マップを1次元のベクトルに変換します。  \n",
        "全結合層（Dense）: 64個のニューロンを持つ層を追加し、ReLU活性化関数を適用します。  \n",
        "出力層（Dense）: 10個のニューロンを持つ層を追加し、softmax活性化関数を適用します。  "
      ]
    },
    {
      "cell_type": "markdown",
      "metadata": {
        "id": "FJbnWSklseVx"
      },
      "source": [
        "### **4.4 モデルのコンパイル**\n",
        "モデルをコンパイルする際には、最適化手法、損失関数、評価指標を指定します。"
      ]
    },
    {
      "cell_type": "code",
      "execution_count": 62,
      "metadata": {
        "id": "PohtiqOWsf43"
      },
      "outputs": [
        {
          "name": "stdout",
          "output_type": "stream",
          "text": [
            "Epoch 1/5\n",
            "844/844 [==============================] - 4s 5ms/step - loss: 0.2420 - accuracy: 0.9298 - val_loss: 0.0826 - val_accuracy: 0.9797\n",
            "Epoch 2/5\n",
            "844/844 [==============================] - 4s 4ms/step - loss: 0.0783 - accuracy: 0.9767 - val_loss: 0.0664 - val_accuracy: 0.9823\n",
            "Epoch 3/5\n",
            "844/844 [==============================] - 4s 5ms/step - loss: 0.0523 - accuracy: 0.9844 - val_loss: 0.0572 - val_accuracy: 0.9842\n",
            "Epoch 4/5\n",
            "844/844 [==============================] - 4s 4ms/step - loss: 0.0382 - accuracy: 0.9887 - val_loss: 0.0536 - val_accuracy: 0.9857\n",
            "Epoch 5/5\n",
            "844/844 [==============================] - 4s 4ms/step - loss: 0.0303 - accuracy: 0.9907 - val_loss: 0.0493 - val_accuracy: 0.9880\n"
          ]
        },
        {
          "data": {
            "text/plain": [
              "<keras.src.callbacks.History at 0x293613ca0>"
            ]
          },
          "execution_count": 62,
          "metadata": {},
          "output_type": "execute_result"
        }
      ],
      "source": [
        "# モデルのコンパイル\n",
        "model.compile(optimizer='adam',\n",
        "              loss='categorical_crossentropy',\n",
        "              metrics=['accuracy'])\n",
        "\n",
        "# モデルの訓練\n",
        "model.fit(train_images, train_labels, epochs=5, batch_size=64, validation_split=0.1)"
      ]
    },
    {
      "cell_type": "markdown",
      "metadata": {
        "id": "NymKp9HwqpVu"
      },
      "source": [
        "### **4.4 モデルの訓練**\n"
      ]
    },
    {
      "cell_type": "markdown",
      "metadata": {},
      "source": [
        "# モデルの訓練\n",
        "model.fit(train_images, train_labels, epochs=5, batch_size=64, validation_split=0.1)"
      ]
    },
    {
      "cell_type": "markdown",
      "metadata": {
        "id": "AHBZ2B4XsjHo"
      },
      "source": [
        "### **課題**\n",
        "\n",
        "- 異なるモデルアーキテクチャを試し、それぞれのモデルのパフォーマンスを比較してください。例えば、畳み込み層の数やユニット数を変更したモデルを作成し、訓練結果の損失と精度を観察してください。"
      ]
    },
    {
      "cell_type": "markdown",
      "metadata": {
        "id": "OFta_69ohb5p"
      },
      "source": [
        "## **セクション 5: モデルの評価とテスト**\n",
        "### **5.1 モデルの評価**\n",
        "訓練したモデルの性能を評価するために、テストデータを使用してモデルを評価します。\n"
      ]
    },
    {
      "cell_type": "code",
      "execution_count": 63,
      "metadata": {
        "id": "MirHDaqUhchV"
      },
      "outputs": [
        {
          "name": "stdout",
          "output_type": "stream",
          "text": [
            "313/313 [==============================] - 0s 1ms/step - loss: 0.0496 - accuracy: 0.9840\n",
            "Test loss: 0.0495867095887661\n",
            "Test accuracy: 0.984000027179718\n"
          ]
        }
      ],
      "source": [
        "# モデルの評価\n",
        "# テスト用の画像と答え（ラベル）を使って、モデルの性能を評価します。\n",
        "# model.evaluateは損失（誤差）と正確さを返します。\n",
        "# test_lossはモデルの誤差（低い方が良い）、test_accuracyは正確さ（高い方が良い）を表します。\n",
        "test_loss, test_accuracy = model.evaluate(test_images, test_labels)\n",
        "\n",
        "# テストデータでの損失（誤差）を表示します。これが小さいほどモデルの性能は良いと言えます。\n",
        "print(f\"Test loss: {test_loss}\")\n",
        "\n",
        "# テストデータでの正確さを表示します。これが100%に近いほど、モデルが正確に予測できていると言えます。\n",
        "print(f\"Test accuracy: {test_accuracy}\")"
      ]
    },
    {
      "cell_type": "markdown",
      "metadata": {
        "id": "6RWO-UAphgey"
      },
      "source": [
        "このコードでは、損失関数として「sparse_categorical_crossentropy」を、最適化アルゴリズムとして「Adam」を使用しています。また、モデルの評価指標として「accuracy」（正解率）を指定しています。"
      ]
    },
    {
      "cell_type": "markdown",
      "metadata": {
        "id": "BcDutu0BhmIL"
      },
      "source": [
        "### **5.2 モデルの予測とテスト**\n",
        "\n",
        "訓練済みモデルを使用して、新しいデータに対する予測を行います。"
      ]
    },
    {
      "cell_type": "code",
      "execution_count": 86,
      "metadata": {
        "id": "bqPSET4jhoG8"
      },
      "outputs": [
        {
          "name": "stdout",
          "output_type": "stream",
          "text": [
            "WARNING:tensorflow:5 out of the last 17 calls to <function Model.make_predict_function.<locals>.predict_function at 0x28783b160> triggered tf.function retracing. Tracing is expensive and the excessive number of tracings could be due to (1) creating @tf.function repeatedly in a loop, (2) passing tensors with different shapes, (3) passing Python objects instead of tensors. For (1), please define your @tf.function outside of the loop. For (2), @tf.function has reduce_retracing=True option that can avoid unnecessary retracing. For (3), please refer to https://www.tensorflow.org/guide/function#controlling_retracing and https://www.tensorflow.org/api_docs/python/tf/function for  more details.\n",
            "1/1 [==============================] - 0s 40ms/step\n"
          ]
        },
        {
          "data": {
            "image/png": "[encoded data removed]",
            "text/plain": [
              "<Figure size 640x480 with 1 Axes>"
            ]
          },
          "metadata": {},
          "output_type": "display_data"
        },
        {
          "name": "stdout",
          "output_type": "stream",
          "text": [
            "Model prediction: 4\n",
            "True label: [0. 0. 0. 0. 1. 0. 0. 0. 0. 0.]\n"
          ]
        }
      ],
      "source": [
        "# numpyは数値計算をするためのライブラリです。これを読み込みます。\n",
        "import numpy as np\n",
        "\n",
        "# matplotlibの中からpyplotを使ってグラフや画像を表示するための準備をします。\n",
        "from matplotlib import pyplot\n",
        "\n",
        "# テストデータからランダムに1つ選ぶ\n",
        "# np.random.choiceを使って、テスト画像の中からランダムに1枚選びます。\n",
        "index = np.random.choice(test_images.shape[0])\n",
        "\n",
        "# 選んだ画像（x_test）とその答え（y_test）を取得します。\n",
        "x_test = test_images[index]\n",
        "y_test = test_labels[index]\n",
        "\n",
        "# モデルの予測\n",
        "# 選んだ画像をモデルに入力して、何の数字であるかを予測します。\n",
        "prediction = model.predict(x_test.reshape(1, 28, 28))\n",
        "\n",
        "# 選んだ画像を表示します。\n",
        "pyplot.imshow(x_test, cmap='gray')\n",
        "pyplot.show()\n",
        "\n",
        "# 予測結果を表示します。np.argmaxは一番高い確率のものを選びます。これがモデルが予測した数字です。\n",
        "print(f\"Model prediction: {np.argmax(prediction)}\")\n",
        "\n",
        "# 実際の答えを表示します。これと予測が一致していれば、モデルが正しく予測したと言えます。\n",
        "print(f\"True label: {y_test}\")"
      ]
    },
    {
      "cell_type": "markdown",
      "metadata": {
        "id": "J2Wnr8nMhuKV"
      },
      "source": [
        "### **5.3 カスタム画像データのテスト**\n",
        "\n",
        "自分で作成した手書きの数字の画像データを使用して、モデルの予測を試してみましょう。"
      ]
    },
    {
      "cell_type": "code",
      "execution_count": 70,
      "metadata": {
        "id": "qBoPGaDIs9Nh"
      },
      "outputs": [
        {
          "name": "stdout",
          "output_type": "stream",
          "text": [
            "1/1 [==============================] - 0s 13ms/step\n"
          ]
        },
        {
          "data": {
            "image/png": "[encoded data removed]",
            "text/plain": [
              "<Figure size 640x480 with 1 Axes>"
            ]
          },
          "metadata": {},
          "output_type": "display_data"
        },
        {
          "name": "stdout",
          "output_type": "stream",
          "text": [
            "Model prediction: 7\n"
          ]
        }
      ],
      "source": [
        "# OpenCVという画像処理ライブラリを読み込みます。これを使って画像の前処理を行います。\n",
        "import cv2\n",
        "\n",
        "# matplotlibのpyplotを使って、画像を表示するための準備をします。\n",
        "from matplotlib import pyplot as plt\n",
        "\n",
        "# 前処理\n",
        "# まず、予測したい画像を読み込みます。\n",
        "target_image = cv2.imread(\"./4.png\")\n",
        "\n",
        "# 読み込んだ画像をグレースケール（白黒）に変換します。色は必要ないため、計算を簡単にするために変換します。\n",
        "target_image = cv2.cvtColor(target_image, cv2.COLOR_BGR2GRAY)\n",
        "\n",
        "# 画像を28x28ピクセルにリサイズします。これはモデルが28x28ピクセルの画像を想定しているからです。\n",
        "target_image = cv2.resize(target_image, (28, 28))\n",
        "\n",
        "# 色の範囲を0から1に変換します（通常、色は0から255の範囲です）。\n",
        "target_image = target_image / 255.0\n",
        "\n",
        "# モデルの予測\n",
        "# 前処理した画像をモデルに入力して、何の数字であるかを予測します。\n",
        "prediction = model.predict(target_image.reshape(1, 28, 28, 1))\n",
        "\n",
        "# 前処理した画像を表示します。\n",
        "plt.imshow(target_image, cmap='gray')\n",
        "plt.show()\n",
        "\n",
        "# 予測結果を表示します。np.argmaxは一番高い確率のものを選びます。これがモデルが予測した数字です。\n",
        "print(f\"Model prediction: {np.argmax(prediction[0])}\")"
      ]
    },
    {
      "cell_type": "markdown",
      "metadata": {
        "id": "ybxcuGiwtBMz"
      },
      "source": [
        "### **課題**\n",
        "\n",
        "- 自作の手書き数字の画像データを用意し、モデルの予測結果と実際のラベルとを比較してください。\n",
        "例えば、実際の手書き数字の画像を作成し、それをモデルに入力して予測結果を取得し、予測結果が正しいかどうかを確認してください。"
      ]
    },
    {
      "cell_type": "markdown",
      "metadata": {
        "id": "n6qmFwfgtGnO"
      },
      "source": [
        "## **ディスカッション:グループワーク(調べて試す力、コミュニケーション能力)**\n",
        "\n",
        "どうすれば更に精度が上がるのかチームで協力してやってみましょう！"
      ]
    },
    {
      "cell_type": "markdown",
      "metadata": {
        "id": "_5ko7VtX2tC2"
      },
      "source": [
        "# 課題"
      ]
    },
    {
      "cell_type": "markdown",
      "metadata": {
        "id": "JI5hFKk93Ass"
      },
      "source": [
        "最初の25枚を表示するサンプル"
      ]
    },
    {
      "cell_type": "code",
      "execution_count": 98,
      "metadata": {
        "id": "IGrbMAPY3E9O"
      },
      "outputs": [
        {
          "data": {
            "image/png": "[encoded data removed]",
            "text/plain": [
              "<Figure size 1000x1000 with 25 Axes>"
            ]
          },
          "metadata": {},
          "output_type": "display_data"
        }
      ],
      "source": [
        "# TensorFlowという名前の機械学習ライブラリを使う準備をします。\n",
        "# さらに、その中のKerasという部分と、fashion_mnistデータセットを使う準備もします。\n",
        "import tensorflow as tf\n",
        "from tensorflow.keras.datasets import fashion_mnist\n",
        "\n",
        "# matplotlibというグラフを描画するライブラリを使う準備をします。\n",
        "import matplotlib.pyplot as plt\n",
        "\n",
        "# Fashion MNISTという、衣料品の画像データセットを読み込みます。\n",
        "# このデータセットは、学習用の画像（train_images）とそれに対応するラベル（train_labels）から成ります。\n",
        "# テスト用のデータはこの例では使わないので、_（アンダースコア）を使って無視します。\n",
        "(train_images, train_labels), (_, _) = fashion_mnist.load_data()\n",
        "\n",
        "# 各ラベルに対応する衣料品の名前をリストで準備します。\n",
        "# 例えば、ラベルが0なら'T-shirt/top'、1なら'Trouser'という具体的な名前に対応します。\n",
        "class_names = ['T-shirt/top', 'Trouser', 'Pullover', 'Dress', 'Coat',\n",
        "               'Sandal', 'Shirt', 'Sneaker', 'Bag', 'Ankle boot']\n",
        "\n",
        "# 画像データは0から255の整数で色を表していますが、これを0から1の範囲に正規化（変換）します。\n",
        "# これは、ニューラルネットワークのモデルが小さい数値を扱う方が効率的であるためです。\n",
        "train_images = train_images / 255.0\n",
        "\n",
        "# 最初の25枚の画像を表示するコードです。\n",
        "# まず10x10の大きさの領域を作り（plt.figure）、その中に5x5のグリッドを作ります。\n",
        "plt.figure(figsize=(10,10))\n",
        "for i in range(25):  # 25回ループを回す。つまり、25枚の画像について次の処理を行います。\n",
        "    plt.subplot(5,5,i+1)  # 5x5のグリッドのうち、左上から数えて(i+1)番目の位置に次のグラフ（または画像）を描きます。\n",
        "    plt.xticks([])  # x軸の目盛りは表示しない。\n",
        "    plt.yticks([])  # y軸の目盛りも表示しない。\n",
        "    plt.grid(False)  # グリッド線も表示しない。\n",
        "    plt.imshow(train_images[i], cmap=plt.cm.binary)  # i番目の画像を表示します。表示にはimshow関数を使います。\n",
        "    plt.xlabel(class_names[train_labels[i]])  # 画像の下に、その衣料品の名前を表示します。これはclass_namesリストから対応する名前を取得しています。\n",
        "plt.show()  # ここまでの設定で作られた図を表示します。これを実行すると、画面に図が表示されます。"
      ]
    },
    {
      "cell_type": "markdown",
      "metadata": {
        "id": "X2BgaCJxzvvw"
      },
      "source": [
        "**データセットのロード**：まず、Fashion MNISTデータセットをロードします。TensorFlowのKeras APIを使ってロードすることが可能です。"
      ]
    },
    {
      "cell_type": "code",
      "execution_count": 99,
      "metadata": {
        "id": "fyyxiV-Qzyzu"
      },
      "outputs": [],
      "source": [
        "from tensorflow.keras.datasets import fashion_mnist\n",
        "\n",
        "(train_images, train_labels), (test_images, test_labels) = fashion_mnist.load_data()"
      ]
    },
    {
      "cell_type": "markdown",
      "metadata": {
        "id": "onGp_ki0z0kQ"
      },
      "source": [
        "データの前処理：MNISTと同様に、画像は28x28ピクセルのグレースケール画像で、ピクセルの値は0から255までの整数です。これらの値を0から1までの浮動小数点数にスケーリングすることが一般的です。"
      ]
    },
    {
      "cell_type": "code",
      "execution_count": 100,
      "metadata": {
        "id": "uvM2xS0Cz2jd"
      },
      "outputs": [],
      "source": [
        "train_images = train_images / 255.0\n",
        "test_images = test_images / 255.0"
      ]
    },
    {
      "cell_type": "markdown",
      "metadata": {
        "id": "6v-qB5LCz4jR"
      },
      "source": [
        "モデルの設定：Fashion MNISTもMNISTと同じように、多クラス分類問題として扱うことができます。したがって、モデルのアーキテクチャ（ニューラルネットワークの層の配置や活性化関数の選択など）はMNISTのモデルと同じくらい複雑であれば十分です。"
      ]
    },
    {
      "cell_type": "code",
      "execution_count": 101,
      "metadata": {
        "id": "-kh1nOtDz6gg"
      },
      "outputs": [],
      "source": [
        "# 訓練用のラベル（答え）を「カテゴリカル」形式に変換します。\n",
        "train_labels = to_categorical(train_labels)\n",
        "# テスト用のラベル（答え）も同様にカテゴリカル形式に変換します。\n",
        "test_labels = to_categorical(test_labels)"
      ]
    },
    {
      "cell_type": "markdown",
      "metadata": {
        "id": "zP-SSQ1O0MGz"
      },
      "source": [
        "モデルのコンパイル\n"
      ]
    },
    {
      "cell_type": "code",
      "execution_count": 102,
      "metadata": {
        "id": "3echjPhU0m1j"
      },
      "outputs": [],
      "source": [
        "# モデルのコンパイル\n",
        "model.compile(optimizer='adam',\n",
        "              loss='categorical_crossentropy',\n",
        "              metrics=['accuracy'])"
      ]
    },
    {
      "cell_type": "markdown",
      "metadata": {
        "id": "-ZO97ZSU0oT5"
      },
      "source": [
        "モデルの訓練"
      ]
    },
    {
      "cell_type": "code",
      "execution_count": 103,
      "metadata": {
        "id": "r0szQX_c0qb4"
      },
      "outputs": [
        {
          "name": "stdout",
          "output_type": "stream",
          "text": [
            "Epoch 1/5\n",
            "844/844 [==============================] - 4s 5ms/step - loss: 0.0561 - accuracy: 0.9798 - val_loss: 0.3397 - val_accuracy: 0.9140\n",
            "Epoch 2/5\n",
            "844/844 [==============================] - 4s 5ms/step - loss: 0.0481 - accuracy: 0.9834 - val_loss: 0.3940 - val_accuracy: 0.9035\n",
            "Epoch 3/5\n",
            "844/844 [==============================] - 4s 5ms/step - loss: 0.0446 - accuracy: 0.9845 - val_loss: 0.3915 - val_accuracy: 0.9100\n",
            "Epoch 4/5\n",
            "844/844 [==============================] - 4s 5ms/step - loss: 0.0405 - accuracy: 0.9861 - val_loss: 0.3990 - val_accuracy: 0.9063\n",
            "Epoch 5/5\n",
            "844/844 [==============================] - 4s 4ms/step - loss: 0.0342 - accuracy: 0.9887 - val_loss: 0.3884 - val_accuracy: 0.9135\n"
          ]
        },
        {
          "data": {
            "text/plain": [
              "<keras.src.callbacks.History at 0x28c8b5b20>"
            ]
          },
          "execution_count": 103,
          "metadata": {},
          "output_type": "execute_result"
        }
      ],
      "source": [
        "# モデルの訓練\n",
        "model.fit(train_images, train_labels, epochs=5, batch_size=64, validation_split=0.1)"
      ]
    },
    {
      "cell_type": "markdown",
      "metadata": {
        "id": "j0hF5Fp20sFv"
      },
      "source": [
        "モデルの評価"
      ]
    },
    {
      "cell_type": "code",
      "execution_count": 104,
      "metadata": {
        "id": "yTzHf8Se0u0j"
      },
      "outputs": [
        {
          "name": "stdout",
          "output_type": "stream",
          "text": [
            "313/313 [==============================] - 0s 1ms/step - loss: 0.4136 - accuracy: 0.9081\n",
            "Test loss: 0.4135630428791046\n",
            "Test accuracy: 0.9081000089645386\n"
          ]
        }
      ],
      "source": [
        "# モデルの評価\n",
        "# テスト用の画像と答え（ラベル）を使って、モデルの性能を評価します。\n",
        "# model.evaluateは損失（誤差）と正確さを返します。\n",
        "# test_lossはモデルの誤差（低い方が良い）、test_accuracyは正確さ（高い方が良い）を表します。\n",
        "test_loss, test_accuracy = model.evaluate(test_images, test_labels)\n",
        "\n",
        "# テストデータでの損失（誤差）を表示します。これが小さいほどモデルの性能は良いと言えます。\n",
        "print(f\"Test loss: {test_loss}\")\n",
        "\n",
        "# テストデータでの正確さを表示します。これが100%に近いほど、モデルが正確に予測できていると言えます。\n",
        "print(f\"Test accuracy: {test_accuracy}\")"
      ]
    },
    {
      "cell_type": "markdown",
      "metadata": {
        "id": "BCPdvKJX2Avu"
      },
      "source": [
        "カスタム画像データのテスト"
      ]
    },
    {
      "cell_type": "code",
      "execution_count": 106,
      "metadata": {
        "id": "d7Hud7c61-fj"
      },
      "outputs": [
        {
          "name": "stdout",
          "output_type": "stream",
          "text": [
            "1/1 [==============================] - 0s 11ms/step\n"
          ]
        },
        {
          "data": {
            "image/png": "[encoded data removed]",
            "text/plain": [
              "<Figure size 640x480 with 1 Axes>"
            ]
          },
          "metadata": {},
          "output_type": "display_data"
        },
        {
          "name": "stdout",
          "output_type": "stream",
          "text": [
            "Model prediction: Bag\n"
          ]
        }
      ],
      "source": [
        "# 画像の前処理\n",
        "# \"予測させたい画像\"を読み込みます。\n",
        "target_image = cv2.imread(\"./output.png\", cv2.IMREAD_GRAYSCALE)\n",
        "\n",
        "# 画像を28x28ピクセルにリサイズします。\n",
        "target_image = cv2.resize(target_image, (28, 28))\n",
        "\n",
        "# 色の範囲を0から1に変換します。\n",
        "target_image = target_image / 255.0\n",
        "\n",
        "# 予測\n",
        "# 前処理した画像をモデルに入力して、何のファッションアイテムであるかを予測します。\n",
        "prediction = model.predict(np.expand_dims(target_image, axis=[0, -1]))\n",
        "\n",
        "# 前処理した画像を表示します。\n",
        "plt.imshow(target_image, cmap='gray')\n",
        "plt.show()\n",
        "\n",
        "# 予測結果を表示します。np.argmaxは一番高い確率のものを選びます。これがモデルが予測したファッションアイテムです。\n",
        "print(f\"Model prediction: {class_names[np.argmax(prediction[0])]}\")"
      ]
    }
  ],
  "metadata": {
    "colab": {
      "provenance": []
    },
    "kernelspec": {
      "display_name": "Python 3",
      "name": "python3"
    },
    "language_info": {
      "codemirror_mode": {
        "name": "ipython",
        "version": 3
      },
      "file_extension": ".py",
      "mimetype": "text/x-python",
      "name": "python",
      "nbconvert_exporter": "python",
      "pygments_lexer": "ipython3",
      "version": "3.9.18"
    }
  },
  "nbformat": 4,
  "nbformat_minor": 0
}
