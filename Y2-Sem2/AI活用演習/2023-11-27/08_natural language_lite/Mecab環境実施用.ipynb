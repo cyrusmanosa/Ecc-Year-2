{
  "nbformat": 4,
  "nbformat_minor": 0,
  "metadata": {
    "colab": {
      "provenance": [],
      "gpuType": "T4"
    },
    "kernelspec": {
      "name": "python3",
      "display_name": "Python 3"
    },
    "language_info": {
      "name": "python"
    },
    "accelerator": "GPU"
  },
  "cells": [
    {
      "cell_type": "markdown",
      "source": [
        "Mecab 環境構築 NEolog辞書のインストール  \n",
        "処理に時間が掛かります。\n",
        "\n"
      ],
      "metadata": {
        "id": "tP3QBNIiGHeW"
      }
    },
    {
      "cell_type": "code",
      "execution_count": null,
      "metadata": {
        "id": "EsXx1IoPFW7J",
        "outputId": "537f66ee-4295-4862-e2ff-ab7bfe219d6c",
        "colab": {
          "base_uri": "https://localhost:8080/"
        }
      },
      "outputs": [
        {
          "output_type": "stream",
          "name": "stdout",
          "text": [
            "Cloning into 'mecab-ipadic-neologd'...\n",
            "remote: Enumerating objects: 75, done.\u001b[K\n",
            "remote: Counting objects: 100% (75/75), done.\u001b[K\n",
            "remote: Compressing objects: 100% (74/74), done.\u001b[K\n",
            "remote: Total 75 (delta 5), reused 54 (delta 0), pack-reused 0\u001b[K\n",
            "Receiving objects: 100% (75/75), 58.09 MiB | 36.69 MiB/s, done.\n",
            "Resolving deltas: 100% (5/5), done.\n"
          ]
        }
      ],
      "source": [
        "# 形態素分析ライブラリーMeCab と 辞書(mecab-ipadic-NEologd)のインストール\n",
        "!apt-get -q -y install sudo file mecab libmecab-dev mecab-ipadic-utf8 git curl  > /dev/null\n",
        "!git clone --depth 1 https://github.com/neologd/mecab-ipadic-neologd.git > /dev/null\n",
        "!echo yes | mecab-ipadic-neologd/bin/install-mecab-ipadic-neologd -n > /dev/null 2>&1\n",
        "!pip install mecab-python3 > /dev/null\n",
        "\n",
        "# # シンボリックリンクによるエラー回避\n",
        "!ln -s /etc/mecabrc /usr/local/etc/mecabrc"
      ]
    },
    {
      "cell_type": "markdown",
      "source": [
        "確認"
      ],
      "metadata": {
        "id": "FPi3yQN5GKKx"
      }
    },
    {
      "cell_type": "code",
      "source": [
        "# ライブラリをインポート\n",
        "import MeCab\n",
        "\n",
        "# オブジェクト生成\n",
        "tagger = MeCab.Tagger()\n",
        "# tagger = MeCab.Tagger(\"-d /usr/lib/x86_64-linux-gnu/mecab/dic/mecab-ipadic-neologd\")\n",
        "# 形態素解析\n",
        "result = tagger.parse(\"鬼滅の刃も良いけど鋼の錬金術師も良い\")\n",
        "# 解析結果を表示\n",
        "print(type(result)) # 形態素解析の結果の型を確認\n",
        "print(result)\n"
      ],
      "metadata": {
        "id": "MCpjX-5dGG82"
      },
      "execution_count": null,
      "outputs": []
    },
    {
      "cell_type": "markdown",
      "source": [
        "授業に必要なファイルのダウンロード"
      ],
      "metadata": {
        "id": "VUZOQx9ddQMA"
      }
    },
    {
      "cell_type": "code",
      "source": [
        "# https://drive.google.com/file/d/1yWXb52Rg7oPV7ywJZMWyPvMg54LkN_uh/view?usp=sharing\n",
        "# https://drive.google.com/file/d/1lirq0qP3hJpXXYfkQmpOhfclPJ7M_UmA/view?usp=sharing\n",
        "# https://drive.google.com/file/d/19SBVesIkqVK614i4lqynqpDYaXLYdGw7/view?usp=sharing\n",
        "# https://drive.google.com/file/d/13UtVttdJszuqNaVWVClMgkKjxGOqShHG/view?usp=sharing\n",
        "\n",
        "!pip install gdown\n",
        "!gdown \"https://drive.google.com/uc?export=download&id=1yWXb52Rg7oPV7ywJZMWyPvMg54LkN_uh\"\n",
        "!gdown \"https://drive.google.com/uc?export=download&id=1lirq0qP3hJpXXYfkQmpOhfclPJ7M_UmA\"\n",
        "!gdown \"https://drive.google.com/uc?export=download&id=19SBVesIkqVK614i4lqynqpDYaXLYdGw7\"\n",
        "!gdown \"https://drive.google.com/uc?export=download&id=13UtVttdJszuqNaVWVClMgkKjxGOqShHG\""
      ],
      "metadata": {
        "colab": {
          "base_uri": "https://localhost:8080/"
        },
        "id": "5O0w3hlUcak0",
        "outputId": "4ae3809f-7656-41d9-e289-d8df97c8581f"
      },
      "execution_count": 5,
      "outputs": [
        {
          "output_type": "stream",
          "name": "stdout",
          "text": [
            "Requirement already satisfied: gdown in /usr/local/lib/python3.10/dist-packages (4.6.6)\n",
            "Requirement already satisfied: filelock in /usr/local/lib/python3.10/dist-packages (from gdown) (3.13.1)\n",
            "Requirement already satisfied: requests[socks] in /usr/local/lib/python3.10/dist-packages (from gdown) (2.31.0)\n",
            "Requirement already satisfied: six in /usr/local/lib/python3.10/dist-packages (from gdown) (1.16.0)\n",
            "Requirement already satisfied: tqdm in /usr/local/lib/python3.10/dist-packages (from gdown) (4.66.1)\n",
            "Requirement already satisfied: beautifulsoup4 in /usr/local/lib/python3.10/dist-packages (from gdown) (4.11.2)\n",
            "Requirement already satisfied: soupsieve>1.2 in /usr/local/lib/python3.10/dist-packages (from beautifulsoup4->gdown) (2.5)\n",
            "Requirement already satisfied: charset-normalizer<4,>=2 in /usr/local/lib/python3.10/dist-packages (from requests[socks]->gdown) (3.3.2)\n",
            "Requirement already satisfied: idna<4,>=2.5 in /usr/local/lib/python3.10/dist-packages (from requests[socks]->gdown) (3.4)\n",
            "Requirement already satisfied: urllib3<3,>=1.21.1 in /usr/local/lib/python3.10/dist-packages (from requests[socks]->gdown) (2.0.7)\n",
            "Requirement already satisfied: certifi>=2017.4.17 in /usr/local/lib/python3.10/dist-packages (from requests[socks]->gdown) (2023.7.22)\n",
            "Requirement already satisfied: PySocks!=1.5.7,>=1.5.6 in /usr/local/lib/python3.10/dist-packages (from requests[socks]->gdown) (1.7.1)\n",
            "Downloading...\n",
            "From: https://drive.google.com/uc?export=download&id=1yWXb52Rg7oPV7ywJZMWyPvMg54LkN_uh\n",
            "To: /content/wiki.model\n",
            "100% 43.7M/43.7M [00:01<00:00, 34.2MB/s]\n",
            "Downloading...\n",
            "From: https://drive.google.com/uc?export=download&id=1lirq0qP3hJpXXYfkQmpOhfclPJ7M_UmA\n",
            "To: /content/wiki.model.syn1neg.npy\n",
            "100% 433M/433M [00:05<00:00, 78.2MB/s]\n",
            "Downloading...\n",
            "From: https://drive.google.com/uc?export=download&id=19SBVesIkqVK614i4lqynqpDYaXLYdGw7\n",
            "To: /content/wiki.model.wv.vectors.npy\n",
            "100% 433M/433M [00:04<00:00, 95.7MB/s]\n",
            "Downloading...\n",
            "From: https://drive.google.com/uc?export=download&id=13UtVttdJszuqNaVWVClMgkKjxGOqShHG\n",
            "To: /content/topic_wakati.txt\n",
            "100% 31.2M/31.2M [00:00<00:00, 137MB/s]\n"
          ]
        }
      ]
    },
    {
      "cell_type": "markdown",
      "source": [
        "以下 プログラミングで活用ください"
      ],
      "metadata": {
        "id": "YC3y2CFmOG9W"
      }
    },
    {
      "cell_type": "code",
      "source": [],
      "metadata": {
        "id": "yZewXdknOGZ0"
      },
      "execution_count": null,
      "outputs": []
    }
  ]
}