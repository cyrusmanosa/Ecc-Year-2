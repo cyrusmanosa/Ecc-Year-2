{
  "cells": [
    {
      "cell_type": "markdown",
      "metadata": {
        "id": "MIbU1pwifPls"
      },
      "source": [
        "# **TensorFlowとニューラルネットワーク入門**\n",
        "\n",
        "## **はじめに**\n",
        "\n",
        "この資料は、TensorFlowとニューラルネットワークの基本的な概念と使用法を紹介します。\n",
        "\n",
        "TensorFlowは、Googleによって開発されたオープンソースの機械学習ライブラリで、深層学習モデルの開発に広く利用されています。\n",
        "\n",
        "このライブラリを使用して、画像認識、自然言語処理、強化学習など、多くの機械学習タスクを実行することができます。"
      ]
    },
    {
      "cell_type": "markdown",
      "metadata": {
        "id": "xSFWGP8PrsED"
      },
      "source": [
        "## **セクション 1: TensorFlowのインストールとセットアップ**\n",
        "\n",
        "### **インストール**\n",
        "\n",
        "TensorFlowを使用する前に、Pythonのライブラリとしてインストールする必要があります。以下のコマンドを使用して簡単にインストールできます。"
      ]
    },
    {
      "cell_type": "code",
      "execution_count": 1,
      "metadata": {
        "id": "fuVYopZKrqeo"
      },
      "outputs": [],
      "source": [
        "# pip install tensorflow"
      ]
    },
    {
      "cell_type": "markdown",
      "metadata": {
        "id": "2pHXtNsefbxM"
      },
      "source": [
        "### **TensorFlowのバージョンの確認**\n",
        "\n",
        "TensorFlowが正常にインストールされたことを確認するために、以下のPythonコードを使用してバージョンを表示します。"
      ]
    },
    {
      "cell_type": "code",
      "execution_count": null,
      "metadata": {
        "id": "sh9ygFqCr0xS"
      },
      "outputs": [],
      "source": [
        "import tensorflow as tf\n",
        "print(tf.__version__)"
      ]
    },
    {
      "cell_type": "markdown",
      "metadata": {
        "id": "QBH_XOb7fgU8"
      },
      "source": [
        "## **セクション 2: テンソルの作成**\n",
        "\n",
        "### **テンソルとは？**\n",
        "\n",
        "TensorFlowの基本的な構成要素はテンソルです。テンソルは、スカラー、ベクトル、行列などの多次元配列です。\n",
        "\n",
        "### **テンソルの作成**\n",
        "\n",
        "以下のPythonコードは、TensorFlowを使用してさまざまな形状のテンソルを作成する方法を示しています。"
      ]
    },
    {
      "cell_type": "code",
      "execution_count": 1,
      "metadata": {
        "id": "W0Z2DJeChFgb"
      },
      "outputs": [],
      "source": [
        "import tensorflow as tf\n",
        "\n",
        "# スカラーの作成\n",
        "scalar = tf.constant(7)\n",
        "print(f\"scalar={scalar}\")\n",
        "\n",
        "# ベクトルの作成\n",
        "vector = tf.constant([1, 2, 3])\n",
        "print(f\"vector={vector}\")\n",
        "\n",
        "# 行列の作成\n",
        "matrix = tf.constant([[1, 2, 3], [4, 5, 6]])\n",
        "print(f\"matrix={matrix}\")\n",
        "\n",
        "# 3次元テンソルの作成\n",
        "tensor_3d = tf.constant([[[1, 2, 3], [4, 5, 6]], [[7, 8, 9], [10, 11, 12]]])\n",
        "print(f\"tensor_3d={tensor_3d}\")"
      ]
    },
    {
      "cell_type": "markdown",
      "metadata": {
        "id": "-88Zq2I4sAov"
      },
      "source": [
        "### **課題**\n",
        "\n",
        "- 独自のテンソルを作成し、それらの形状と値を確認してください。"
      ]
    },
    {
      "cell_type": "code",
      "execution_count": 1,
      "metadata": {
        "id": "2Tz0f9aosHfc"
      },
      "outputs": [],
      "source": []
    },
    {
      "cell_type": "markdown",
      "metadata": {
        "id": "a32KgUL2hU32"
      },
      "source": [
        "## **セクション 3: テンソルの基本的な演算**"
      ]
    },
    {
      "cell_type": "markdown",
      "metadata": {
        "id": "sEK_i6GrsQlC"
      },
      "source": [
        "### **足し算と引き算**\n",
        "\n",
        "TensorFlowのテンソルでは、通常の数学的演算を簡単に行うことができます。以下は、2つのテンソルの足し算と引き算の例です。"
      ]
    },
    {
      "cell_type": "code",
      "execution_count": 1,
      "metadata": {
        "id": "ZNQW7hf9hX7Z"
      },
      "outputs": [],
      "source": [
        "import tensorflow as tf\n",
        "\n",
        "# テンソルの作成\n",
        "tensor_a = tf.constant([1, 2, 3])\n",
        "tensor_b = tf.constant([4, 5, 6])\n",
        "\n",
        "# 足し算\n",
        "sum_tensors = tf.add(tensor_a, tensor_b)\n",
        "print(f\"sum_tensors = {sum_tensors}\")\n",
        "\n",
        "# 引き算\n",
        "subtract_tensors = tf.subtract(tensor_a, tensor_b)\n",
        "print(f\"subtract_tensors = {subtract_tensors}\")"
      ]
    },
    {
      "cell_type": "markdown",
      "metadata": {
        "id": "_CpA3-XwsUbN"
      },
      "source": [
        "### **課題**\n",
        "\n",
        "- 独自のテンソルを作成し、異なる演算を試してください。"
      ]
    },
    {
      "cell_type": "code",
      "execution_count": 1,
      "metadata": {
        "id": "6dz0zjZosVxQ"
      },
      "outputs": [],
      "source": []
    },
    {
      "cell_type": "markdown",
      "metadata": {
        "id": "DykZtDOrsZ0Z"
      },
      "source": [
        "## **セクション 4: ニューラルネットワークの構築と訓練**\n",
        "## **4.1 MNISTデータセットの読み込み**\n",
        "MNISTデータセットは手書き数字の画像データセットであり、機械学習のベンチマークとして広く使用されています。まず、MNISTデータセットを読み込みます。"
      ]
    },
    {
      "cell_type": "code",
      "execution_count": 1,
      "metadata": {
        "id": "1CzLqKUpZj2i"
      },
      "outputs": [],
      "source": [
        "# tensorflowという名前のツールセットからkerasという部分の中のデータセットを使います\n",
        "from tensorflow.keras.datasets import mnist\n",
        "\n",
        "# 描画のためのツールを使う準備をします\n",
        "import matplotlib.pyplot as plt\n",
        "\n",
        "# MNISTという手書き数字の画像セットを読み込みます。訓練用の画像と答え、テスト用の画像と答えに分かれています。\n",
        "(train_images, train_labels), (test_images, test_labels) = mnist.load_data()\n",
        "\n",
        "# 訓練用の画像を見やすく表示するための領域を作ります。上下2行、左右5列の計10枠作ります。\n",
        "fig, axes = plt.subplots(nrows=2, ncols=5, figsize=(10, 4))\n",
        "\n",
        "# 10枠それぞれに訓練用の画像を入れていきます。iは0から9まで、axはそれぞれの枠です。\n",
        "for i, ax in enumerate(axes.flatten()):\n",
        "    # i番目の画像をグレースケール（白黒）で表示します。\n",
        "    ax.imshow(train_images[i], cmap='gray')\n",
        "    \n",
        "    # 画像の上に、それが何の数字であるかを表示します（これが答えです）。\n",
        "    ax.set_title(f\"Label: {train_labels[i]}\")\n",
        "    \n",
        "    # 枠の周りの軸（数字や目盛り）は要らないので消します。\n",
        "    ax.axis('off')\n",
        "\n",
        "# 配置をきれいに整えます。\n",
        "plt.tight_layout()\n",
        "\n",
        "# 実際に画像を表示します。\n",
        "plt.show()"
      ]
    },
    {
      "cell_type": "markdown",
      "metadata": {
        "id": "BzJ2HsomZyqF"
      },
      "source": [
        "## **4.2 データの前処理**\n",
        "読み込んだデータをニューラルネットワークに適した形式に前処理します。"
      ]
    },
    {
      "cell_type": "code",
      "execution_count": 1,
      "metadata": {
        "id": "3-3B-V4bZ-ax"
      },
      "outputs": [],
      "source": [
        "# tensorflowのkerasツールセットから、カテゴリカルデータを使いやすくするためのユーティリティを読み込みます\n",
        "from tensorflow.keras.utils import to_categorical\n",
        "\n",
        "# データの前処理\n",
        "# 訓練用の画像データを整形して、色の範囲を0から1に変換します（通常、色は0から255の範囲です）。\n",
        "# 60000枚の画像をそれぞれ28x28ピクセルの1チャンネル（グレースケール）の形に変えて、色を0から1に変換します。\n",
        "train_images = train_images.reshape((60000, 28, 28, 1)).astype('float32') / 255.0\n",
        "\n",
        "# テスト用の画像データも同様に整形して色の範囲を0から1に変換します。\n",
        "# 10000枚の画像をそれぞれ28x28ピクセルの1チャンネル（グレースケール）の形に変えて、色を0から1に変換します。\n",
        "test_images = test_images.reshape((10000, 28, 28, 1)).astype('float32') / 255.0\n",
        "\n",
        "# 訓練用のラベル（答え）を「カテゴリカル」形式に変換します。\n",
        "# これは、例えば、ラベル '5' を [0, 0, 0, 0, 0, 1, 0, 0, 0, 0] のような形に変換することです。\n",
        "train_labels = to_categorical(train_labels)\n",
        "\n",
        "# テスト用のラベル（答え）も同様にカテゴリカル形式に変換します。\n",
        "test_labels = to_categorical(test_labels)"
      ]
    },
    {
      "cell_type": "markdown",
      "metadata": {
        "id": "4xoPKit0aDov"
      },
      "source": [
        "上記のコードでは、画像データを浮動小数点数に変換し、0から1の範囲に正規化しています。また、ラベルデータはone-hotエンコーディングされています。\n",
        "これにより、画像データとラベルデータがニューラルネットワークモデルに適した形式に変換されます。"
      ]
    },
    {
      "cell_type": "markdown",
      "metadata": {
        "id": "zq_yzRXbZnso"
      },
      "source": [
        "## **4.3 モデルの定義**\n",
        "ニューラルネットワークモデルを構築します。以下の例では、畳み込み層と全結合層からなるシンプルなモデルを定義します。"
      ]
    },
    {
      "cell_type": "code",
      "execution_count": 1,
      "metadata": {
        "id": "JeF4qt6jsbv4"
      },
      "outputs": [],
      "source": [
        "# tensorflowという名前のツールセットを使う準備をします\n",
        "import tensorflow as tf\n",
        "\n",
        "# tensorflowの中のkerasツールセットから、モデルの構造や層を作る部分を使う準備をします\n",
        "from tensorflow.keras.models import Sequential\n",
        "from tensorflow.keras.layers import Dense, Flatten, Conv2D, MaxPooling2D\n",
        "\n",
        "# モデルの定義\n",
        "# Sequentialは、層を順番に積み重ねたモデルを作るためのものです。これがロボットの頭脳になります。\n",
        "model = Sequential([\n",
        "    # Conv2Dは畳み込み層で、画像の特徴を捉えます。32はフィルタの数、(3, 3)はフィルタのサイズです。\n",
        "    # activation='relu'は活性化関数で、どの程度の情報を次の層に伝えるかを決める役割があります。\n",
        "    # input_shape=(28, 28, 1)は入力画像の形状を指定します。28x28ピクセルで1チャンネル（グレースケール）です。\n",
        "    Conv2D(32, (3, 3), activation='relu', input_shape=(28, 28, 1)),\n",
        "    \n",
        "    # MaxPooling2Dはプーリング層で、画像を縮小しながら重要な特徴だけを残します。(2, 2)は縮小する範囲です。\n",
        "    MaxPooling2D((2, 2)),\n",
        "    \n",
        "    # Flatten層は、画像を一列の数値のリストに変換します。これで通常の全結合層に入力できる形になります。\n",
        "    Flatten(),\n",
        "    \n",
        "    # Denseは全結合層で、前の層の情報を使って学習します。64はこの層のノード（ニューロン）の数です。\n",
        "    Dense(64, activation='relu'),\n",
        "    \n",
        "    # もう一つのDense層ですが、ここでは10個のノードがあります。10個の数字（0〜9）それぞれに対応します。\n",
        "    # activation='softmax'は、出力の合計が1になるようにして、確率として解釈できるようにします。\n",
        "    Dense(10, activation='softmax')\n",
        "])"
      ]
    },
    {
      "cell_type": "markdown",
      "metadata": {
        "id": "0ndylcIXvYlr"
      },
      "source": [
        "この例では、以下のようなモデルが定義されています。\n",
        "\n",
        "畳み込み層（Conv2D）: 32個の3x3のフィルタを使用し、ReLU活性化関数を適用します。  \n",
        "プーリング層（MaxPooling2D）: 2x2の領域で最大値を取るプーリングを適用します。  \n",
        "平滑化層（Flatten）: 3次元の特徴マップを1次元のベクトルに変換します。  \n",
        "全結合層（Dense）: 64個のニューロンを持つ層を追加し、ReLU活性化関数を適用します。  \n",
        "出力層（Dense）: 10個のニューロンを持つ層を追加し、softmax活性化関数を適用します。  "
      ]
    },
    {
      "cell_type": "markdown",
      "metadata": {
        "id": "FJbnWSklseVx"
      },
      "source": [
        "### **4.4 モデルのコンパイル**\n",
        "モデルをコンパイルする際には、最適化手法、損失関数、評価指標を指定します。"
      ]
    },
    {
      "cell_type": "code",
      "execution_count": 1,
      "metadata": {
        "id": "PohtiqOWsf43"
      },
      "outputs": [],
      "source": [
        "# モデルのコンパイル\n",
        "model.compile(optimizer='adam',\n",
        "              loss='categorical_crossentropy',\n",
        "              metrics=['accuracy'])"
      ]
    },
    {
      "cell_type": "markdown",
      "metadata": {
        "id": "NymKp9HwqpVu"
      },
      "source": [
        "### **4.4 モデルの訓練**\n"
      ]
    },
    {
      "cell_type": "markdown",
      "metadata": {},
      "source": [
        "# モデルの訓練\n",
        "model.fit(train_images, train_labels, epochs=5, batch_size=64, validation_split=0.1)"
      ]
    },
    {
      "cell_type": "markdown",
      "metadata": {
        "id": "AHBZ2B4XsjHo"
      },
      "source": [
        "### **課題**\n",
        "\n",
        "- 異なるモデルアーキテクチャを試し、それぞれのモデルのパフォーマンスを比較してください。例えば、畳み込み層の数やユニット数を変更したモデルを作成し、訓練結果の損失と精度を観察してください。"
      ]
    },
    {
      "cell_type": "markdown",
      "metadata": {
        "id": "OFta_69ohb5p"
      },
      "source": [
        "## **セクション 5: モデルの評価とテスト**\n",
        "### **5.1 モデルの評価**\n",
        "訓練したモデルの性能を評価するために、テストデータを使用してモデルを評価します。\n"
      ]
    },
    {
      "cell_type": "code",
      "execution_count": 1,
      "metadata": {
        "id": "MirHDaqUhchV"
      },
      "outputs": [],
      "source": [
        "# モデルの評価\n",
        "# テスト用の画像と答え（ラベル）を使って、モデルの性能を評価します。\n",
        "# model.evaluateは損失（誤差）と正確さを返します。\n",
        "# test_lossはモデルの誤差（低い方が良い）、test_accuracyは正確さ（高い方が良い）を表します。\n",
        "test_loss, test_accuracy = model.evaluate(test_images, test_labels)\n",
        "\n",
        "# テストデータでの損失（誤差）を表示します。これが小さいほどモデルの性能は良いと言えます。\n",
        "print(f\"Test loss: {test_loss}\")\n",
        "\n",
        "# テストデータでの正確さを表示します。これが100%に近いほど、モデルが正確に予測できていると言えます。\n",
        "print(f\"Test accuracy: {test_accuracy}\")"
      ]
    },
    {
      "cell_type": "markdown",
      "metadata": {
        "id": "6RWO-UAphgey"
      },
      "source": [
        "このコードでは、損失関数として「sparse_categorical_crossentropy」を、最適化アルゴリズムとして「Adam」を使用しています。また、モデルの評価指標として「accuracy」（正解率）を指定しています。"
      ]
    },
    {
      "cell_type": "markdown",
      "metadata": {
        "id": "BcDutu0BhmIL"
      },
      "source": [
        "### **5.2 モデルの予測とテスト**\n",
        "\n",
        "訓練済みモデルを使用して、新しいデータに対する予測を行います。"
      ]
    },
    {
      "cell_type": "code",
      "execution_count": 1,
      "metadata": {
        "id": "bqPSET4jhoG8"
      },
      "outputs": [],
      "source": [
        "# numpyは数値計算をするためのライブラリです。これを読み込みます。\n",
        "import numpy as np\n",
        "\n",
        "# matplotlibの中からpyplotを使ってグラフや画像を表示するための準備をします。\n",
        "from matplotlib import pyplot\n",
        "\n",
        "# テストデータからランダムに1つ選ぶ\n",
        "# np.random.choiceを使って、テスト画像の中からランダムに1枚選びます。\n",
        "index = np.random.choice(test_images.shape[0])\n",
        "\n",
        "# 選んだ画像（x_test）とその答え（y_test）を取得します。\n",
        "x_test = test_images[index]\n",
        "y_test = test_labels[index]\n",
        "\n",
        "# モデルの予測\n",
        "# 選んだ画像をモデルに入力して、何の数字であるかを予測します。\n",
        "prediction = model.predict(x_test.reshape(1, 28, 28))\n",
        "\n",
        "# 選んだ画像を表示します。\n",
        "pyplot.imshow(x_test, cmap='gray')\n",
        "pyplot.show()\n",
        "\n",
        "# 予測結果を表示します。np.argmaxは一番高い確率のものを選びます。これがモデルが予測した数字です。\n",
        "print(f\"Model prediction: {np.argmax(prediction)}\")\n",
        "\n",
        "# 実際の答えを表示します。これと予測が一致していれば、モデルが正しく予測したと言えます。\n",
        "print(f\"True label: {y_test}\")"
      ]
    },
    {
      "cell_type": "markdown",
      "metadata": {
        "id": "J2Wnr8nMhuKV"
      },
      "source": [
        "### **5.3 カスタム画像データのテスト**\n",
        "\n",
        "自分で作成した手書きの数字の画像データを使用して、モデルの予測を試してみましょう。"
      ]
    },
    {
      "cell_type": "code",
      "execution_count": 1,
      "metadata": {
        "id": "qBoPGaDIs9Nh"
      },
      "outputs": [],
      "source": [
        "# OpenCVという画像処理ライブラリを読み込みます。これを使って画像の前処理を行います。\n",
        "import cv2\n",
        "\n",
        "# matplotlibのpyplotを使って、画像を表示するための準備をします。\n",
        "from matplotlib import pyplot as plt\n",
        "\n",
        "# 前処理\n",
        "# まず、予測したい画像を読み込みます。\n",
        "target_image = cv2.imread(\"______.png\")\n",
        "\n",
        "# 読み込んだ画像をグレースケール（白黒）に変換します。色は必要ないため、計算を簡単にするために変換します。\n",
        "target_image = cv2.cvtColor(target_image, cv2.COLOR_BGR2GRAY)\n",
        "\n",
        "# 画像を28x28ピクセルにリサイズします。これはモデルが28x28ピクセルの画像を想定しているからです。\n",
        "target_image = cv2.resize(target_image, (28, 28))\n",
        "\n",
        "# 色の範囲を0から1に変換します（通常、色は0から255の範囲です）。\n",
        "target_image = target_image / 255.0\n",
        "\n",
        "# モデルの予測\n",
        "# 前処理した画像をモデルに入力して、何の数字であるかを予測します。\n",
        "prediction = model.predict(target_image.reshape(1, 28, 28, 1))\n",
        "\n",
        "# 前処理した画像を表示します。\n",
        "plt.imshow(target_image, cmap='gray')\n",
        "plt.show()\n",
        "\n",
        "# 予測結果を表示します。np.argmaxは一番高い確率のものを選びます。これがモデルが予測した数字です。\n",
        "print(f\"Model prediction: {np.argmax(prediction[0])}\")"
      ]
    },
    {
      "cell_type": "markdown",
      "metadata": {
        "id": "ybxcuGiwtBMz"
      },
      "source": [
        "### **課題**\n",
        "\n",
        "- 自作の手書き数字の画像データを用意し、モデルの予測結果と実際のラベルとを比較してください。\n",
        "例えば、実際の手書き数字の画像を作成し、それをモデルに入力して予測結果を取得し、予測結果が正しいかどうかを確認してください。"
      ]
    },
    {
      "cell_type": "markdown",
      "metadata": {
        "id": "n6qmFwfgtGnO"
      },
      "source": [
        "## **ディスカッション:グループワーク(調べて試す力、コミュニケーション能力)**\n",
        "\n",
        "どうすれば更に精度が上がるのかチームで協力してやってみましょう！"
      ]
    },
    {
      "cell_type": "markdown",
      "metadata": {
        "id": "_5ko7VtX2tC2"
      },
      "source": [
        "# 課題"
      ]
    },
    {
      "cell_type": "markdown",
      "metadata": {
        "id": "JI5hFKk93Ass"
      },
      "source": [
        "最初の25枚を表示するサンプル"
      ]
    },
    {
      "cell_type": "code",
      "execution_count": 1,
      "metadata": {
        "id": "IGrbMAPY3E9O"
      },
      "outputs": [],
      "source": [
        "# TensorFlowという名前の機械学習ライブラリを使う準備をします。\n",
        "# さらに、その中のKerasという部分と、fashion_mnistデータセットを使う準備もします。\n",
        "import tensorflow as tf\n",
        "from tensorflow.keras.datasets import fashion_mnist\n",
        "\n",
        "# matplotlibというグラフを描画するライブラリを使う準備をします。\n",
        "import matplotlib.pyplot as plt\n",
        "\n",
        "# Fashion MNISTという、衣料品の画像データセットを読み込みます。\n",
        "# このデータセットは、学習用の画像（train_images）とそれに対応するラベル（train_labels）から成ります。\n",
        "# テスト用のデータはこの例では使わないので、_（アンダースコア）を使って無視します。\n",
        "(train_images, train_labels), (_, _) = fashion_mnist.load_data()\n",
        "\n",
        "# 各ラベルに対応する衣料品の名前をリストで準備します。\n",
        "# 例えば、ラベルが0なら'T-shirt/top'、1なら'Trouser'という具体的な名前に対応します。\n",
        "class_names = ['T-shirt/top', 'Trouser', 'Pullover', 'Dress', 'Coat',\n",
        "               'Sandal', 'Shirt', 'Sneaker', 'Bag', 'Ankle boot']\n",
        "\n",
        "# 画像データは0から255の整数で色を表していますが、これを0から1の範囲に正規化（変換）します。\n",
        "# これは、ニューラルネットワークのモデルが小さい数値を扱う方が効率的であるためです。\n",
        "train_images = train_images / 255.0\n",
        "\n",
        "# 最初の25枚の画像を表示するコードです。\n",
        "# まず10x10の大きさの領域を作り（plt.figure）、その中に5x5のグリッドを作ります。\n",
        "plt.figure(figsize=(10,10))\n",
        "for i in range(25):  # 25回ループを回す。つまり、25枚の画像について次の処理を行います。\n",
        "    plt.subplot(5,5,i+1)  # 5x5のグリッドのうち、左上から数えて(i+1)番目の位置に次のグラフ（または画像）を描きます。\n",
        "    plt.xticks([])  # x軸の目盛りは表示しない。\n",
        "    plt.yticks([])  # y軸の目盛りも表示しない。\n",
        "    plt.grid(False)  # グリッド線も表示しない。\n",
        "    plt.imshow(train_images[i], cmap=plt.cm.binary)  # i番目の画像を表示します。表示にはimshow関数を使います。\n",
        "    plt.xlabel(class_names[train_labels[i]])  # 画像の下に、その衣料品の名前を表示します。これはclass_namesリストから対応する名前を取得しています。\n",
        "plt.show()  # ここまでの設定で作られた図を表示します。これを実行すると、画面に図が表示されます。"
      ]
    },
    {
      "cell_type": "markdown",
      "metadata": {
        "id": "X2BgaCJxzvvw"
      },
      "source": [
        "**データセットのロード**：まず、Fashion MNISTデータセットをロードします。TensorFlowのKeras APIを使ってロードすることが可能です。"
      ]
    },
    {
      "cell_type": "code",
      "execution_count": 1,
      "metadata": {
        "id": "fyyxiV-Qzyzu"
      },
      "outputs": [],
      "source": [
        "from tensorflow.keras.datasets import fashion_mnist\n",
        "\n",
        "(train_images, train_labels), (test_images, test_labels) = fashion_mnist.load_data()"
      ]
    },
    {
      "cell_type": "markdown",
      "metadata": {
        "id": "onGp_ki0z0kQ"
      },
      "source": [
        "データの前処理：MNISTと同様に、画像は28x28ピクセルのグレースケール画像で、ピクセルの値は0から255までの整数です。これらの値を0から1までの浮動小数点数にスケーリングすることが一般的です。"
      ]
    },
    {
      "cell_type": "code",
      "execution_count": 1,
      "metadata": {
        "id": "uvM2xS0Cz2jd"
      },
      "outputs": [],
      "source": [
        "train_images = train_images / 255.0\n",
        "test_images = test_images / 255.0"
      ]
    },
    {
      "cell_type": "markdown",
      "metadata": {
        "id": "6v-qB5LCz4jR"
      },
      "source": [
        "モデルの設定：Fashion MNISTもMNISTと同じように、多クラス分類問題として扱うことができます。したがって、モデルのアーキテクチャ（ニューラルネットワークの層の配置や活性化関数の選択など）はMNISTのモデルと同じくらい複雑であれば十分です。"
      ]
    },
    {
      "cell_type": "code",
      "execution_count": 1,
      "metadata": {
        "id": "-kh1nOtDz6gg"
      },
      "outputs": [],
      "source": [
        "# 訓練用のラベル（答え）を「カテゴリカル」形式に変換します。\n",
        "train_labels = to_categorical(train_labels)\n",
        "# テスト用のラベル（答え）も同様にカテゴリカル形式に変換します。\n",
        "test_labels = to_categorical(test_labels)"
      ]
    },
    {
      "cell_type": "markdown",
      "metadata": {
        "id": "zP-SSQ1O0MGz"
      },
      "source": [
        "モデルのコンパイル\n"
      ]
    },
    {
      "cell_type": "code",
      "execution_count": 1,
      "metadata": {
        "id": "3echjPhU0m1j"
      },
      "outputs": [],
      "source": []
    },
    {
      "cell_type": "markdown",
      "metadata": {
        "id": "-ZO97ZSU0oT5"
      },
      "source": [
        "モデルの訓練"
      ]
    },
    {
      "cell_type": "code",
      "execution_count": 1,
      "metadata": {
        "id": "r0szQX_c0qb4"
      },
      "outputs": [],
      "source": []
    },
    {
      "cell_type": "markdown",
      "metadata": {
        "id": "j0hF5Fp20sFv"
      },
      "source": [
        "モデルの評価"
      ]
    },
    {
      "cell_type": "code",
      "execution_count": 1,
      "metadata": {
        "id": "yTzHf8Se0u0j"
      },
      "outputs": [],
      "source": []
    },
    {
      "cell_type": "markdown",
      "metadata": {
        "id": "BCPdvKJX2Avu"
      },
      "source": [
        "カスタム画像データのテスト"
      ]
    },
    {
      "cell_type": "code",
      "execution_count": 1,
      "metadata": {
        "id": "d7Hud7c61-fj"
      },
      "outputs": [],
      "source": [
        "# 画像の前処理\n",
        "# \"予測させたい画像\"を読み込みます。\n",
        "target_image = cv2.imread(\"________\", cv2.IMREAD_GRAYSCALE)\n",
        "\n",
        "# 画像を28x28ピクセルにリサイズします。\n",
        "target_image = cv2.resize(target_image, (28, 28))\n",
        "\n",
        "# 色の範囲を0から1に変換します。\n",
        "target_image = target_image / 255.0\n",
        "\n",
        "# 予測\n",
        "# 前処理した画像をモデルに入力して、何のファッションアイテムであるかを予測します。\n",
        "prediction = model.predict(np.expand_dims(target_image, axis=[0, -1]))\n",
        "\n",
        "# 前処理した画像を表示します。\n",
        "plt.imshow(target_image, cmap='gray')\n",
        "plt.show()\n",
        "\n",
        "# 予測結果を表示します。np.argmaxは一番高い確率のものを選びます。これがモデルが予測したファッションアイテムです。\n",
        "print(f\"Model prediction: {class_names[np.argmax(prediction[0])]}\")"
      ]
    }
  ],
  "metadata": {
    "colab": {
      "provenance": []
    },
    "kernelspec": {
      "display_name": "Python 3",
      "name": "python3"
    },
    "language_info": {
      "name": "python"
    }
  },
  "nbformat": 4,
  "nbformat_minor": 0
}
